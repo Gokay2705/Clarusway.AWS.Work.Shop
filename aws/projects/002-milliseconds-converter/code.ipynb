{
 "metadata": {
  "language_info": {
   "codemirror_mode": {
    "name": "ipython",
    "version": 3
   },
   "file_extension": ".py",
   "mimetype": "text/x-python",
   "name": "python",
   "nbconvert_exporter": "python",
   "pygments_lexer": "ipython3",
   "version": "3.8.5-final"
  },
  "orig_nbformat": 2,
  "kernelspec": {
   "name": "Python 3.8.5 32-bit",
   "display_name": "Python 3.8.5 32-bit",
   "metadata": {
    "interpreter": {
     "hash": "7a542ca580817fc4dd55327026e074e2fa0cd470fc5dee9350c2d8b13822db8d"
    }
   }
  }
 },
 "nbformat": 4,
 "nbformat_minor": 2,
 "cells": [
  {
   "cell_type": "code",
   "execution_count": null,
   "metadata": {
    "tags": []
   },
   "outputs": [],
   "source": [
    "\n",
    "# write a function that converts the given milliseconds into hours, minutes, and seconds\n",
    "def convert(milliseconds):\n",
    "    # one hour in milliseconds\n",
    "    hour_in_milliseconds = 60*60*1000\n",
    "    # calculate the hours within given milliseconds\n",
    "    hours = milliseconds // hour_in_milliseconds\n",
    "    # calculate milliseconds left over when hours subtracted\n",
    "    milliseconds_left = milliseconds % hour_in_milliseconds\n",
    "    # one minute in milliseconds\n",
    "    minutes_in_milliseconds = 60*1000\n",
    "    # calculate the minutes within remainder milliseconds\n",
    "    minutes = milliseconds_left // minutes_in_milliseconds\n",
    "    # calculate milliseconds left over when minutes subtracted\n",
    "    milliseconds_left %= minutes_in_milliseconds\n",
    "    # calculate the seconds within remainder milliseconds\n",
    "    seconds = milliseconds_left // 1000\n",
    "    # format the output string\n",
    "    return f'{hours} hour/s'*(hours != 0) + f' {minutes} minute/s'*(minutes != 0) + f' {seconds} second/s' *(seconds != 0) or f'just {milliseconds} millisecond/s' * (milliseconds < 1000)\n",
    "    \n",
    "\n",
    "# flag to show warning to the user, default is False.\n",
    "is_invalid = False\n",
    "\n",
    "# start endless loop to get user input continuously\n",
    "while True:\n",
    "    # info text to be shown to the user\n",
    "    info = \"\"\"\n",
    "###  This program converts milliseconds into hours, minutes, and seconds ###\n",
    "(To exit the program, please type \"exit\")\n",
    "Please enter the milliseconds (should be greater than zero) : \"\"\"\n",
    "\n",
    "    # get the user input after showing info text.\n",
    "    # if is_invalid set to True then show additional warning to the user\n",
    "    # pass the input the alphanum variable after stripping white space characters\n",
    "    alphanum = input('\\nNot Valid Input !!!\\n'*is_invalid + info).strip()\n",
    "    # if the input is not decimal number\n",
    "    if not alphanum.isdecimal():\n",
    "        # then check, if it is the \"exit\" keyword\n",
    "        if alphanum.lower() == 'exit':\n",
    "            # if it is \"exit\", then say goodbye and terminate the program\n",
    "            print('\\nExiting the program... Good Bye')\n",
    "            break\n",
    "        # if it is a string other than \"exit\"\n",
    "        else:\n",
    "            # then set to invalid flag to True to show warning and continue with next cycle\n",
    "            is_invalid = True\n",
    "            continue\n",
    "    # convert the given string to the integer\n",
    "    millisecs = int(alphanum)\n",
    "    # if the milliseconds is greater than 0\n",
    "    if 0 < millisecs:\n",
    "        # then convert milliseconds and print out the user\n",
    "        print(\n",
    "            f'\\nMilliseconds of \"{alphanum}\"\" is equal to {convert(millisecs)}')\n",
    "        # and set invalid flag to the False, it might be set the True in previous cycle\n",
    "        is_invalid = False\n",
    "    # if the millisecond is out of bounds\n",
    "    else:\n",
    "        # then set to invalid flag to True to show warning\n",
    "        is_invalid = True\n"
   ]
  },
  {
   "cell_type": "code",
   "execution_count": null,
   "metadata": {},
   "outputs": [],
   "source": [
    "def convert(milliseconds):\n",
    "    # one hour in milliseconds\n",
    "    hour_in_milliseconds = 60*60*1000\n",
    "    # calculate the hours within given milliseconds\n",
    "    hours = milliseconds // hour_in_milliseconds\n",
    "    # calculate milliseconds left over when hours subtracted\n",
    "    milliseconds_left = milliseconds % hour_in_milliseconds\n",
    "    # one minute in milliseconds\n",
    "    minutes_in_milliseconds = 60*1000\n",
    "    # calculate the minutes within remainder milliseconds\n",
    "    minutes = milliseconds_left // minutes_in_milliseconds\n",
    "    # calculate milliseconds left over when minutes subtracted\n",
    "    milliseconds_left %= minutes_in_milliseconds\n",
    "    # calculate the seconds within remainder milliseconds\n",
    "    seconds = milliseconds_left // 1000\n",
    "    # format the output string\n",
    "    return f'{hours} hour/s'*(hours != 0) + f' {minutes} minute/s'*(minutes != 0) + f' {seconds} second/s' *(seconds != 0) or f'just {milliseconds} millisecond/s' * (milliseconds < 1000)\n",
    "    "
   ]
  },
  {
   "cell_type": "code",
   "execution_count": null,
   "metadata": {},
   "outputs": [],
   "source": [
    "convert(4656)\n"
   ]
  },
  {
   "cell_type": "code",
   "execution_count": null,
   "metadata": {},
   "outputs": [],
   "source": [
    "print(result)"
   ]
  },
  {
   "cell_type": "code",
   "execution_count": null,
   "metadata": {
    "tags": []
   },
   "outputs": [],
   "source": [
    "# Python Program to Convert seconds \n",
    "# into hours, minutes and seconds \n",
    "  \n",
    "def convert(milliseconds): \n",
    "    seconds = seconds % (24 * 3600) \n",
    "    hour = seconds // 3600\n",
    "    seconds %= 3600\n",
    "    minutes = seconds // 60\n",
    "    seconds %= 60\n",
    "      \n",
    "    return \"%d:%02d:%02d\" % (hour, minutes, seconds) \n",
    "      \n",
    "# Driver program \n",
    "n = 12345\n",
    "print(convert(n))"
   ]
  },
  {
   "cell_type": "code",
   "execution_count": null,
   "metadata": {
    "tags": []
   },
   "outputs": [],
   "source": [
    "# Python Program to Convert seconds \n",
    "# into hours, minutes and seconds \n",
    "  \n",
    "import time \n",
    "  \n",
    "def convert(seconds): \n",
    "    return time.strftime(\"%H Hour %M Minute %S Seconds\", time.gmtime(n)) \n",
    "      \n",
    "# Driver program \n",
    "n = 12345\n",
    "print(convert(n))"
   ]
  },
  {
   "cell_type": "code",
   "execution_count": null,
   "metadata": {
    "tags": []
   },
   "outputs": [],
   "source": [
    "from datetime import timedelta\n",
    "\n",
    "# Convert 600000ms (10 minutes) back to duration value. \n",
    "milliseconds = timedelta(milliseconds=600000)\n",
    "print (milliseconds)"
   ]
  },
  {
   "cell_type": "code",
   "execution_count": null,
   "metadata": {
    "tags": []
   },
   "outputs": [],
   "source": [
    "def convert(milliseconds):\n",
    "    milliseconds = timedelta(int(milliseconds))\n",
    "    result = (milliseconds)\n",
    "    return result\n",
    "\n",
    "milliseconds=23456789\n",
    "print(convert(milliseconds))"
   ]
  },
  {
   "cell_type": "code",
   "execution_count": null,
   "metadata": {
    "tags": []
   },
   "outputs": [],
   "source": [
    " def convert(milliseconds):\n",
    "     milliseconds=milliseconds\n",
    "     seconds=(milliseconds/1000)%60\n",
    "     minutes=(milliseconds/(1000*60))%60\n",
    "     hours=(milliseconds/(1000*60*60))%24\n",
    "     return milliseconds, seconds, minutes, hours\n",
    "\n",
    " def main():\n",
    "     millis=input(\"Enter time in milliseconds \")\n",
    "     con_mil, con_sec, con_min, con_hour = convert(int(milliseconds))\n",
    "     print(\"{0}:{1}:{2}:{3}\".format(con_hour, con_min, con_sec, con_mil))\n",
    "\n",
    " main()"
   ]
  },
  {
   "cell_type": "code",
   "execution_count": null,
   "metadata": {},
   "outputs": [],
   "source": [
    "divmod(100,7)"
   ]
  },
  {
   "cell_type": "code",
   "execution_count": null,
   "metadata": {
    "tags": []
   },
   "outputs": [],
   "source": [
    "def convert(milliseconds):\n",
    "    milliseconds = int(milliseconds)\n",
    "    seconds=(milliseconds/1000)%60\n",
    "    seconds = int(seconds)\n",
    "    minutes=(milliseconds/(1000*60))%60\n",
    "    minutes = int(minutes)\n",
    "    hours=(milliseconds/(1000*60*60))%24\n",
    "\n",
    "    if milliseconds < 1000:\n",
    "        print(\"Just %d millisecond/s\" % (milliseconds))\n",
    "    elif milliseconds < 60000:\n",
    "        print(\"%d second/s\" % (seconds))\n",
    "    elif milliseconds < 360000:\n",
    "        print(\"%d minute/s %d second/s\" % (minutes, seconds))\n",
    "    elif milliseconds < (24*360000):\n",
    "        print(\"%d hour/s %d minute/s %d second/s\" % (hours, minutes, seconds))\n",
    "\n",
    "convert(7322011 )"
   ]
  },
  {
   "cell_type": "code",
   "execution_count": null,
   "metadata": {
    "tags": []
   },
   "outputs": [],
   "source": [
    "def convert(milliseconds):\n",
    "    milliseconds = int(milliseconds)\n",
    "    seconds=(milliseconds/1000)%60\n",
    "    seconds = int(seconds)\n",
    "    minutes=(milliseconds/(1000*60))%60\n",
    "    minutes = int(minutes)\n",
    "    hours=(milliseconds/(1000*60*60))%24\n",
    "    result = ''\n",
    "    if milliseconds < 1000:\n",
    "        result = (\"Just %d millisecond/s\" % (milliseconds))\n",
    "        print(result)\n",
    "    elif milliseconds < 60000:\n",
    "        result = (\"%d second/s\" % (seconds))\n",
    "        print(result)\n",
    "    elif milliseconds < 360000:\n",
    "        result = (\"%d minute/s %d second/s\" % (minutes, seconds))\n",
    "        print(result)\n",
    "    elif milliseconds < (24*360000):\n",
    "        result = (\"%d hour/s %d minute/s %d second/s\" % (hours, minutes, seconds))\n",
    "        print(result)\n",
    "    \n",
    "convert(7298765)\n"
   ]
  },
  {
   "cell_type": "code",
   "execution_count": null,
   "metadata": {},
   "outputs": [],
   "source": []
  }
 ]
}