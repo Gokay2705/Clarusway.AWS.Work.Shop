{
 "metadata": {
  "language_info": {
   "codemirror_mode": {
    "name": "ipython",
    "version": 3
   },
   "file_extension": ".py",
   "mimetype": "text/x-python",
   "name": "python",
   "nbconvert_exporter": "python",
   "pygments_lexer": "ipython3",
   "version": "3.8.5-final"
  },
  "orig_nbformat": 2,
  "kernelspec": {
   "name": "Python 3.8.5 32-bit",
   "display_name": "Python 3.8.5 32-bit",
   "metadata": {
    "interpreter": {
     "hash": "7a542ca580817fc4dd55327026e074e2fa0cd470fc5dee9350c2d8b13822db8d"
    }
   }
  }
 },
 "nbformat": 4,
 "nbformat_minor": 2,
 "cells": [
  {
   "cell_type": "code",
   "execution_count": 1,
   "metadata": {
    "tags": []
   },
   "outputs": [
    {
     "output_type": "stream",
     "name": "stdout",
     "text": "\nMilliseconds of &quot;4000&quot;&quot; is equal to  4 second/s\n\nExiting the program... Good Bye\n"
    }
   ],
   "source": [
    "\n",
    "# write a function that converts the given milliseconds into hours, minutes, and seconds\n",
    "def convert(milliseconds):\n",
    "    # one hour in milliseconds\n",
    "    hour_in_milliseconds = 60*60*1000\n",
    "    # calculate the hours within given milliseconds\n",
    "    hours = milliseconds // hour_in_milliseconds\n",
    "    # calculate milliseconds left over when hours subtracted\n",
    "    milliseconds_left = milliseconds % hour_in_milliseconds\n",
    "    # one minute in milliseconds\n",
    "    minutes_in_milliseconds = 60*1000\n",
    "    # calculate the minutes within remainder milliseconds\n",
    "    minutes = milliseconds_left // minutes_in_milliseconds\n",
    "    # calculate milliseconds left over when minutes subtracted\n",
    "    milliseconds_left %= minutes_in_milliseconds\n",
    "    # calculate the seconds within remainder milliseconds\n",
    "    seconds = milliseconds_left // 1000\n",
    "    # format the output string\n",
    "    return f'{hours} hour/s'*(hours != 0) + f' {minutes} minute/s'*(minutes != 0) + f' {seconds} second/s' *(seconds != 0) or f'just {milliseconds} millisecond/s' * (milliseconds < 1000)\n",
    "    \n",
    "\n",
    "# flag to show warning to the user, default is False.\n",
    "is_invalid = False\n",
    "\n",
    "# start endless loop to get user input continuously\n",
    "while True:\n",
    "    # info text to be shown to the user\n",
    "    info = \"\"\"\n",
    "###  This program converts milliseconds into hours, minutes, and seconds ###\n",
    "(To exit the program, please type \"exit\")\n",
    "Please enter the milliseconds (should be greater than zero) : \"\"\"\n",
    "\n",
    "    # get the user input after showing info text.\n",
    "    # if is_invalid set to True then show additional warning to the user\n",
    "    # pass the input the alphanum variable after stripping white space characters\n",
    "    alphanum = input('\\nNot Valid Input !!!\\n'*is_invalid + info).strip()\n",
    "    # if the input is not decimal number\n",
    "    if not alphanum.isdecimal():\n",
    "        # then check, if it is the \"exit\" keyword\n",
    "        if alphanum.lower() == 'exit':\n",
    "            # if it is \"exit\", then say goodbye and terminate the program\n",
    "            print('\\nExiting the program... Good Bye')\n",
    "            break\n",
    "        # if it is a string other than \"exit\"\n",
    "        else:\n",
    "            # then set to invalid flag to True to show warning and continue with next cycle\n",
    "            is_invalid = True\n",
    "            continue\n",
    "    # convert the given string to the integer\n",
    "    millisecs = int(alphanum)\n",
    "    # if the milliseconds is greater than 0\n",
    "    if 0 < millisecs:\n",
    "        # then convert milliseconds and print out the user\n",
    "        print(\n",
    "            f'\\nMilliseconds of \"{alphanum}\"\" is equal to {convert(millisecs)}')\n",
    "        # and set invalid flag to the False, it might be set the True in previous cycle\n",
    "        is_invalid = False\n",
    "    # if the millisecond is out of bounds\n",
    "    else:\n",
    "        # then set to invalid flag to True to show warning\n",
    "        is_invalid = True\n"
   ]
  },
  {
   "cell_type": "code",
   "execution_count": 13,
   "metadata": {},
   "outputs": [
    {
     "output_type": "error",
     "ename": "SyntaxError",
     "evalue": "invalid syntax (&lt;ipython-input-13-150b0c44379e&gt;, line 18)",
     "traceback": [
      "\u001b[1;36m  File \u001b[1;32m&quot;&lt;ipython-input-13-150b0c44379e&gt;&quot;\u001b[1;36m, line \u001b[1;32m18\u001b[0m\n\u001b[1;33m    result = return\u001b[0m\n\u001b[1;37m             ^\u001b[0m\n\u001b[1;31mSyntaxError\u001b[0m\u001b[1;31m:\u001b[0m invalid syntax\n"
     ]
    }
   ],
   "source": [
    "def convert(milliseconds):\n",
    "    # one hour in milliseconds\n",
    "    hour_in_milliseconds = 60*60*1000\n",
    "    # calculate the hours within given milliseconds\n",
    "    hours = milliseconds // hour_in_milliseconds\n",
    "    # calculate milliseconds left over when hours subtracted\n",
    "    milliseconds_left = milliseconds % hour_in_milliseconds\n",
    "    # one minute in milliseconds\n",
    "    minutes_in_milliseconds = 60*1000\n",
    "    # calculate the minutes within remainder milliseconds\n",
    "    minutes = milliseconds_left // minutes_in_milliseconds\n",
    "    # calculate milliseconds left over when minutes subtracted\n",
    "    milliseconds_left %= minutes_in_milliseconds\n",
    "    # calculate the seconds within remainder milliseconds\n",
    "    seconds = milliseconds_left // 1000\n",
    "    # format the output string\n",
    "    return f'{hours} hour/s'*(hours != 0) + f' {minutes} minute/s'*(minutes != 0) + f' {seconds} second/s' *(seconds != 0) or f'just {milliseconds} millisecond/s' * (milliseconds < 1000)\n",
    "    "
   ]
  },
  {
   "cell_type": "code",
   "execution_count": 12,
   "metadata": {},
   "outputs": [
    {
     "output_type": "execute_result",
     "data": {
      "text/plain": "&#39; 4 second/s&#39;"
     },
     "metadata": {},
     "execution_count": 12
    }
   ],
   "source": [
    "convert(4656)\n"
   ]
  },
  {
   "cell_type": "code",
   "execution_count": 11,
   "metadata": {},
   "outputs": [
    {
     "output_type": "error",
     "ename": "NameError",
     "evalue": "name &#39;result&#39; is not defined",
     "traceback": [
      "\u001b[1;31m---------------------------------------------------------------------------\u001b[0m",
      "\u001b[1;31mNameError\u001b[0m                                 Traceback (most recent call last)",
      "\u001b[1;32m&lt;ipython-input-11-6459d04d738f&gt;\u001b[0m in \u001b[0;36m&lt;module&gt;\u001b[1;34m\u001b[0m\n\u001b[1;32m----&gt; 1\u001b[1;33m \u001b[0mprint\u001b[0m\u001b[1;33m(\u001b[0m\u001b[0mresult\u001b[0m\u001b[1;33m)\u001b[0m\u001b[1;33m\u001b[0m\u001b[1;33m\u001b[0m\u001b[0m\n\u001b[0m",
      "\u001b[1;31mNameError\u001b[0m: name &#39;result&#39; is not defined"
     ]
    }
   ],
   "source": [
    "print(result)"
   ]
  },
  {
   "cell_type": "code",
   "execution_count": null,
   "metadata": {},
   "outputs": [],
   "source": []
  }
 ]
}