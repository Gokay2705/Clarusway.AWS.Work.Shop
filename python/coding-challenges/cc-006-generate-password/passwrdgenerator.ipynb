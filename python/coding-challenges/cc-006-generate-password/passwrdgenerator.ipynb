{
 "metadata": {
  "language_info": {
   "codemirror_mode": {
    "name": "ipython",
    "version": 3
   },
   "file_extension": ".py",
   "mimetype": "text/x-python",
   "name": "python",
   "nbconvert_exporter": "python",
   "pygments_lexer": "ipython3",
   "version": "3.8.5-final"
  },
  "orig_nbformat": 2,
  "kernelspec": {
   "name": "Python 3.8.5 32-bit",
   "display_name": "Python 3.8.5 32-bit",
   "metadata": {
    "interpreter": {
     "hash": "7a542ca580817fc4dd55327026e074e2fa0cd470fc5dee9350c2d8b13822db8d"
    }
   }
  }
 },
 "nbformat": 4,
 "nbformat_minor": 2,
 "cells": [
  {
   "cell_type": "code",
   "execution_count": 11,
   "metadata": {
    "tags": []
   },
   "outputs": [
    {
     "output_type": "stream",
     "name": "stdout",
     "text": "mtu5707\n"
    }
   ],
   "source": [
    "import random\n",
    "\n",
    "name=input(\"Please enter your name and sirname without any space :\").lower()\n",
    "password_name = \"\"\n",
    "password_length_name = 3\n",
    "for x in range(password_length_name):\n",
    "    password_name += random.choice(name)\n",
    "\n",
    "numbers = \"0123456789\"\n",
    "password_num= \"\"\n",
    "password_length_num = 4\n",
    "for x in range(password_length_num):\n",
    "    password_num += random.choice(numbers)\n",
    "\n",
    "password = password_name + password_num\n",
    "print(password)"
   ]
  },
  {
   "cell_type": "code",
   "execution_count": 2,
   "metadata": {
    "tags": []
   },
   "outputs": [
    {
     "output_type": "stream",
     "name": "stdout",
     "text": "ejn\n"
    }
   ],
   "source": [
    "import random\n",
    "name=input(\"Please enter your name and sirname without any space :\").lower()\n",
    "password_name = \"\"\n",
    "password_length_name = 3\n",
    "for x in range(password_length_name):\n",
    "    password_name += random.choice(name)\n",
    "\n",
    "print(password_name)"
   ]
  },
  {
   "cell_type": "code",
   "execution_count": 3,
   "metadata": {
    "tags": []
   },
   "outputs": [
    {
     "output_type": "stream",
     "name": "stdout",
     "text": "2766\n"
    }
   ],
   "source": [
    "numbers = \"0123456789\"\n",
    "password_num= \"\"\n",
    "password_length_num = 4\n",
    "for x in range(password_length_num):\n",
    "    password_num += random.choice(numbers)\n",
    "\n",
    "print(password_num)"
   ]
  },
  {
   "cell_type": "code",
   "execution_count": 4,
   "metadata": {
    "tags": []
   },
   "outputs": [
    {
     "output_type": "stream",
     "name": "stdout",
     "text": "ejn2766\n"
    }
   ],
   "source": [
    "password = password_name + password_num\n",
    "print(password)"
   ]
  },
  {
   "cell_type": "code",
   "execution_count": null,
   "metadata": {},
   "outputs": [],
   "source": []
  }
 ]
}