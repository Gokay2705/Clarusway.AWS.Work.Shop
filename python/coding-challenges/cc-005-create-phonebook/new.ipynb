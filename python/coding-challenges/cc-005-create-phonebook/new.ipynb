{
 "metadata": {
  "language_info": {
   "codemirror_mode": {
    "name": "ipython",
    "version": 3
   },
   "file_extension": ".py",
   "mimetype": "text/x-python",
   "name": "python",
   "nbconvert_exporter": "python",
   "pygments_lexer": "ipython3",
   "version": "3.8.5-final"
  },
  "orig_nbformat": 2,
  "kernelspec": {
   "name": "Python 3.8.5 32-bit",
   "display_name": "Python 3.8.5 32-bit",
   "metadata": {
    "interpreter": {
     "hash": "7a542ca580817fc4dd55327026e074e2fa0cd470fc5dee9350c2d8b13822db8d"
    }
   }
  }
 },
 "nbformat": 4,
 "nbformat_minor": 2,
 "cells": [
  {
   "cell_type": "code",
   "execution_count": 62,
   "metadata": {
    "tags": []
   },
   "outputs": [
    {
     "output_type": "stream",
     "name": "stdout",
     "text": "Welcome to the phonebook application.\n1. Find phone number.\n2. Insert a phone number.\n3. Delete a person from the phonebook.\n4. Terminate!\n\nFind phone number.\nKayit bulunamadi!\nInsert a phone number.\nInsert a name to delete own phone number.\nKayit bulunamadi!\n"
    },
    {
     "output_type": "error",
     "ename": "KeyError",
     "evalue": "('Qay', '5432')",
     "traceback": [
      "\u001b[1;31m---------------------------------------------------------------------------\u001b[0m",
      "\u001b[1;31mKeyError\u001b[0m                                  Traceback (most recent call last)",
      "\u001b[1;32m<ipython-input-62-fbffeaeddf98>\u001b[0m in \u001b[0;36m<module>\u001b[1;34m\u001b[0m\n\u001b[0;32m     43\u001b[0m         \u001b[0mdele\u001b[0m\u001b[1;33m(\u001b[0m\u001b[0mname\u001b[0m\u001b[1;33m)\u001b[0m\u001b[1;33m\u001b[0m\u001b[1;33m\u001b[0m\u001b[0m\n\u001b[0;32m     44\u001b[0m         \u001b[1;32mwith\u001b[0m \u001b[0mopen\u001b[0m\u001b[1;33m(\u001b[0m\u001b[1;34m'myphonebook.txt'\u001b[0m\u001b[1;33m,\u001b[0m \u001b[1;34m'a'\u001b[0m\u001b[1;33m)\u001b[0m \u001b[1;32mas\u001b[0m \u001b[0mf\u001b[0m\u001b[1;33m:\u001b[0m\u001b[1;33m\u001b[0m\u001b[1;33m\u001b[0m\u001b[0m\n\u001b[1;32m---> 45\u001b[1;33m             \u001b[0mf\u001b[0m\u001b[1;33m.\u001b[0m\u001b[0mwrite\u001b[0m\u001b[1;33m(\u001b[0m\u001b[1;34m'%s\\t%s'\u001b[0m \u001b[1;33m%\u001b[0m \u001b[1;33m(\u001b[0m\u001b[0mphonebook\u001b[0m\u001b[1;33m[\u001b[0m\u001b[0mname\u001b[0m\u001b[1;33m,\u001b[0m \u001b[0mphone\u001b[0m\u001b[1;33m]\u001b[0m\u001b[1;33m)\u001b[0m\u001b[1;33m)\u001b[0m\u001b[1;33m\u001b[0m\u001b[1;33m\u001b[0m\u001b[0m\n\u001b[0m\u001b[0;32m     46\u001b[0m     \u001b[1;32melif\u001b[0m \u001b[0mmenu_choice\u001b[0m \u001b[1;33m==\u001b[0m \u001b[1;36m4\u001b[0m\u001b[1;33m:\u001b[0m\u001b[1;33m\u001b[0m\u001b[1;33m\u001b[0m\u001b[0m\n\u001b[0;32m     47\u001b[0m         \u001b[0mprint\u001b[0m\u001b[1;33m(\u001b[0m\u001b[1;34m'Terminate!'\u001b[0m\u001b[1;33m)\u001b[0m\u001b[1;33m\u001b[0m\u001b[1;33m\u001b[0m\u001b[0m\n",
      "\u001b[1;31mKeyError\u001b[0m: ('Qay', '5432')"
     ]
    }
   ],
   "source": [
    "def print_menu():\n",
    "    print(\"Welcome to the phonebook application.\")\n",
    "    print('1. Find phone number.')\n",
    "    print('2. Insert a phone number.')\n",
    "    print('3. Delete a person from the phonebook.')\n",
    "    print('4. Terminate!')\n",
    "    print()\n",
    "\n",
    "def find(name):\n",
    "    if name in phonebook:\n",
    "        with open('myphonebook.txt', 'r') as f:\n",
    "            print(f.readlines([name]))\n",
    "    else:\n",
    "        print(\"Kayit bulunamadi!\")\n",
    "\n",
    "def dele(name):\n",
    "    if name in phonebook:\n",
    "        del phonebook[name]\n",
    "        print(\"Kayit silindi!\")\n",
    "    else:\n",
    "        print(\"Kayit bulunamadi!\")\n",
    "\n",
    "\n",
    "phonebook = {}\n",
    "menu_choice = 0\n",
    "print_menu()\n",
    "while menu_choice <= 4:\n",
    "    menu_choice = int(input(\"Type in a number (1-4): \"))\n",
    "    if menu_choice == 1:\n",
    "        print(\"Find phone number.\")\n",
    "        name = input(\"Name: \").title()\n",
    "        find(name)\n",
    "    elif menu_choice == 2:\n",
    "        print(\"Insert a phone number.\")\n",
    "        name = input(\"Name: \").title()\n",
    "        phone = input(\"Number: \")\n",
    "        phonebook.update({name:phone})\n",
    "        with open('myphonebook.txt', 'a') as f:\n",
    "            f.write('%s\\t%s\\n' % (name, phone))\n",
    "    elif menu_choice == 3:\n",
    "        print('Insert a name to delete own phone number.')\n",
    "        name = input(\"Name: \").title()\n",
    "        dele(name)\n",
    "        with open('myphonebook.txt', 'a') as f:\n",
    "            f.write('%s\\t%s' % (phonebook[name, phone]))\n",
    "    elif menu_choice == 4:\n",
    "        print('Terminate!')\n",
    "        break\n",
    "    else:\n",
    "        print(\"Welcome to the phonebook application.Please insert 1..4\")\n"
   ]
  },
  {
   "cell_type": "code",
   "execution_count": null,
   "metadata": {
    "tags": []
   },
   "outputs": [],
   "source": [
    "print(phonebook)"
   ]
  },
  {
   "cell_type": "code",
   "execution_count": null,
   "metadata": {},
   "outputs": [],
   "source": []
  }
 ]
}