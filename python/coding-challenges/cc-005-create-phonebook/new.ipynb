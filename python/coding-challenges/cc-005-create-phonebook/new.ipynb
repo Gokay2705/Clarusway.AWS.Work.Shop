{
 "metadata": {
  "language_info": {
   "codemirror_mode": {
    "name": "ipython",
    "version": 3
   },
   "file_extension": ".py",
   "mimetype": "text/x-python",
   "name": "python",
   "nbconvert_exporter": "python",
   "pygments_lexer": "ipython3",
   "version": "3.8.5-final"
  },
  "orig_nbformat": 2,
  "kernelspec": {
   "name": "Python 3.8.5 32-bit",
   "display_name": "Python 3.8.5 32-bit",
   "metadata": {
    "interpreter": {
     "hash": "7a542ca580817fc4dd55327026e074e2fa0cd470fc5dee9350c2d8b13822db8d"
    }
   }
  }
 },
 "nbformat": 4,
 "nbformat_minor": 2,
 "cells": [
  {
   "cell_type": "code",
   "execution_count": 40,
   "metadata": {
    "tags": []
   },
   "outputs": [
    {
     "output_type": "error",
     "ename": "SyntaxError",
     "evalue": "invalid syntax (<ipython-input-40-f4785d043f90>, line 10)",
     "traceback": [
      "\u001b[1;36m  File \u001b[1;32m\"<ipython-input-40-f4785d043f90>\"\u001b[1;36m, line \u001b[1;32m10\u001b[0m\n\u001b[1;33m    if type(name) not str:\u001b[0m\n\u001b[1;37m                      ^\u001b[0m\n\u001b[1;31mSyntaxError\u001b[0m\u001b[1;31m:\u001b[0m invalid syntax\n"
     ]
    }
   ],
   "source": [
    "def print_menu():\n",
    "    print(\"Welcome to the phonebook application.\")\n",
    "    print('1. Find phone number.')\n",
    "    print('2. Insert a phone number.')\n",
    "    print('3. Delete a person from the phonebook.')\n",
    "    print('4. Terminate!')\n",
    "    print()\n",
    "\n",
    "def find(name):\n",
    "    if type(name) not __str__:\n",
    "        print(\"Invalid input format, cancelling operation ...\")\n",
    "        return print_menu()\n",
    "    else:\n",
    "        if name in phonebook:\n",
    "            print(phonebook[name])\n",
    "        else:\n",
    "            print(\"Kayit bulunamadi!\")\n",
    "\n",
    "def delet(name):\n",
    "    if name in phonebook:\n",
    "        del phonebook[name]\n",
    "        print(\"Kayit silindi!\")\n",
    "    else:\n",
    "        print(\"Kayit bulunamadi!\")\n",
    "\n",
    "\n",
    "phonebook = {\n",
    "    'Qay' :\t'1234',\n",
    "    'Wsx' :\t'2347',\n",
    "    'Zgv' :\t'4324',\n",
    "    'Wsx' :\t'3333',\n",
    "    'Tgb' :\t'5432',\n",
    "    'Zhb' :\t'9876',\n",
    "    'Esy' :\t'1111',\n",
    "    'Edc' :\t'9876' }\n",
    "menu_choice = 0\n",
    "print_menu()\n",
    "while menu_choice <= 4:\n",
    "    menu_choice = int(input(\"Type in a number (1-4): \"))\n",
    "    if menu_choice == 1:\n",
    "        print(\"Find phone number.\")\n",
    "        name = input(\"Name: \").title()\n",
    "        find(name)\n",
    "    elif menu_choice == 2:\n",
    "        print(\"Insert a phone number.\")\n",
    "        name = input(\"Name: \").title()\n",
    "        phone = input(\"Number: \")\n",
    "        phonebook.update({name:phone})\n",
    "        phonebook[name] = phone\n",
    "    elif menu_choice == 3:\n",
    "        print('Insert a name to delete own phone number.')\n",
    "        name = input(\"Name: \").title()\n",
    "        delet(name)\n",
    "    elif menu_choice == 4:\n",
    "        print('Terminate!')\n",
    "        break\n",
    "    else:\n",
    "        print(\"Welcome to the phonebook application.Please insert 1..4\")\n"
   ]
  },
  {
   "cell_type": "code",
   "execution_count": 20,
   "metadata": {
    "tags": []
   },
   "outputs": [
    {
     "output_type": "stream",
     "name": "stdout",
     "text": "{'Wsx': '3333', 'Zgv': '4324', 'Tgb': '5432', 'Zhb': '9876', 'Esy': '1111', 'Edc': '9876'}\n"
    }
   ],
   "source": [
    "print(phonebook)"
   ]
  },
  {
   "cell_type": "code",
   "execution_count": 15,
   "metadata": {
    "tags": []
   },
   "outputs": [
    {
     "output_type": "stream",
     "name": "stdout",
     "text": "1234\n"
    }
   ],
   "source": [
    "a='Qay'\n",
    "print(phonebook[a])"
   ]
  },
  {
   "cell_type": "code",
   "execution_count": 39,
   "metadata": {
    "tags": []
   },
   "outputs": [
    {
     "output_type": "stream",
     "name": "stdout",
     "text": "<class 'str'>\n"
    }
   ],
   "source": [
    "name = input(\"Name: \").title()\n",
    "if str(name)==int(name):\n",
    "    type(name)==str\n",
    "else:\n",
    "    type(name)==int\n",
    "print(type(name))"
   ]
  },
  {
   "cell_type": "code",
   "execution_count": null,
   "metadata": {},
   "outputs": [],
   "source": []
  }
 ]
}