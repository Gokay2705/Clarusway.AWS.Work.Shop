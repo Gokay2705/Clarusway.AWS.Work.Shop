{
 "metadata": {
  "language_info": {
   "codemirror_mode": {
    "name": "ipython",
    "version": 3
   },
   "file_extension": ".py",
   "mimetype": "text/x-python",
   "name": "python",
   "nbconvert_exporter": "python",
   "pygments_lexer": "ipython3",
   "version": "3.8.5-final"
  },
  "orig_nbformat": 2,
  "kernelspec": {
   "name": "Python 3.8.5 32-bit",
   "display_name": "Python 3.8.5 32-bit",
   "metadata": {
    "interpreter": {
     "hash": "7a542ca580817fc4dd55327026e074e2fa0cd470fc5dee9350c2d8b13822db8d"
    }
   }
  }
 },
 "nbformat": 4,
 "nbformat_minor": 2,
 "cells": [
  {
   "cell_type": "code",
   "execution_count": 53,
   "metadata": {
    "tags": []
   },
   "outputs": [
    {
     "output_type": "stream",
     "name": "stdout",
     "text": "Welcome to the phonebook application.\n1. Find phone number.\n2. Insert a phone number.\n3. Delete a person from the phonebook.\n4. Terminate!\n\n"
    },
    {
     "output_type": "error",
     "ename": "NameError",
     "evalue": "name 'username' is not defined",
     "traceback": [
      "\u001b[1;31m---------------------------------------------------------------------------\u001b[0m",
      "\u001b[1;31mNameError\u001b[0m                                 Traceback (most recent call last)",
      "\u001b[1;32m<ipython-input-53-daa167798685>\u001b[0m in \u001b[0;36m<module>\u001b[1;34m\u001b[0m\n\u001b[0;32m     48\u001b[0m         \u001b[0mnumbers\u001b[0m\u001b[1;33m[\u001b[0m\u001b[0mname\u001b[0m\u001b[1;33m]\u001b[0m \u001b[1;33m=\u001b[0m \u001b[0mphone\u001b[0m\u001b[1;33m\u001b[0m\u001b[1;33m\u001b[0m\u001b[0m\n\u001b[0;32m     49\u001b[0m     \u001b[1;32melif\u001b[0m \u001b[0mmenu_choice\u001b[0m \u001b[1;33m==\u001b[0m \u001b[1;36m3\u001b[0m\u001b[1;33m:\u001b[0m\u001b[1;33m\u001b[0m\u001b[1;33m\u001b[0m\u001b[0m\n\u001b[1;32m---> 50\u001b[1;33m         \u001b[0mmain\u001b[0m\u001b[1;33m(\u001b[0m\u001b[1;33m)\u001b[0m\u001b[1;33m\u001b[0m\u001b[1;33m\u001b[0m\u001b[0m\n\u001b[0m\u001b[0;32m     51\u001b[0m \u001b[1;33m\u001b[0m\u001b[0m\n\u001b[0;32m     52\u001b[0m     \u001b[1;32melif\u001b[0m \u001b[0mmenu_choice\u001b[0m \u001b[1;33m!=\u001b[0m \u001b[1;36m4\u001b[0m\u001b[1;33m:\u001b[0m\u001b[1;33m\u001b[0m\u001b[1;33m\u001b[0m\u001b[0m\n",
      "\u001b[1;32m<ipython-input-53-daa167798685>\u001b[0m in \u001b[0;36mmain\u001b[1;34m()\u001b[0m\n\u001b[0;32m     17\u001b[0m     \u001b[1;32mwith\u001b[0m \u001b[0mopen\u001b[0m\u001b[1;33m(\u001b[0m\u001b[1;34m\"myphonebook.csv\"\u001b[0m\u001b[1;33m,\u001b[0m\u001b[0mnewline\u001b[0m\u001b[1;33m=\u001b[0m\u001b[1;34m\"\"\u001b[0m\u001b[1;33m)\u001b[0m \u001b[1;32mas\u001b[0m \u001b[0mf\u001b[0m\u001b[1;33m:\u001b[0m\u001b[1;33m\u001b[0m\u001b[1;33m\u001b[0m\u001b[0m\n\u001b[0;32m     18\u001b[0m       \u001b[0mreader\u001b[0m\u001b[1;33m=\u001b[0m\u001b[0mcsv\u001b[0m\u001b[1;33m.\u001b[0m\u001b[0mreader\u001b[0m\u001b[1;33m(\u001b[0m\u001b[0mf\u001b[0m\u001b[1;33m)\u001b[0m\u001b[1;33m\u001b[0m\u001b[1;33m\u001b[0m\u001b[0m\n\u001b[1;32m---> 19\u001b[1;33m       \u001b[0musername\u001b[0m\u001b[1;33m==\u001b[0m\u001b[0minput\u001b[0m\u001b[1;33m(\u001b[0m\u001b[1;34m\"Enter a name to delete from phonebook:\"\u001b[0m\u001b[1;33m)\u001b[0m\u001b[1;33m\u001b[0m\u001b[1;33m\u001b[0m\u001b[0m\n\u001b[0m\u001b[0;32m     20\u001b[0m \u001b[1;33m\u001b[0m\u001b[0m\n\u001b[0;32m     21\u001b[0m       \u001b[1;32mfor\u001b[0m \u001b[0mrow\u001b[0m \u001b[1;32min\u001b[0m \u001b[0mreader\u001b[0m\u001b[1;33m:\u001b[0m \u001b[1;31m#for every row in the file\u001b[0m\u001b[1;33m\u001b[0m\u001b[1;33m\u001b[0m\u001b[0m\n",
      "\u001b[1;31mNameError\u001b[0m: name 'username' is not defined"
     ]
    }
   ],
   "source": [
    "def print_menu():\n",
    "    print(\"Welcome to the phonebook application.\")\n",
    "    print('1. Find phone number.')\n",
    "    print('2. Insert a phone number.')\n",
    "    print('3. Delete a person from the phonebook.')\n",
    "    print('4. Terminate!')\n",
    "    print()\n",
    "\n",
    "username =\"\"\n",
    "menu_choice = 0\n",
    "print_menu()\n",
    "import csv\n",
    "\n",
    "def main():\n",
    "    # This code snippet asks the user for a username and deletes the user's record from file.\n",
    "    updatedlist=[]\n",
    "    with open(\"myphonebook.csv\",newline=\"\") as f:\n",
    "      reader=csv.reader(f)\n",
    "      username==input(\"Enter a name to delete from phonebook:\")\n",
    "      \n",
    "      for row in reader: #for every row in the file\n",
    "          if row[0]!=username: #as long as the username is not in the row .......\n",
    "              updatedlist.append(row) #add each row, line by line, into a list called 'udpatedlist'\n",
    "      print(updatedlist)\n",
    "      updatefile(updatedlist)\n",
    "        \n",
    "def updatefile(updatedlist):\n",
    "    with open(\"myphonebook.csv\",\"w\",newline=\"\") as f:\n",
    "        Writer=csv.writer(f)\n",
    "        Writer.writerows(updatedlist)\n",
    "        print(\"File has been updated\")\n",
    "\n",
    "#Menu choises.\n",
    "while menu_choice != 4:\n",
    "    menu_choice = int(input(\"Type in a number (1-4): \"))\n",
    "    if menu_choice == 1:\n",
    "        print(\"Find phone number.\")\n",
    "        name = input(\"Name: \")\n",
    "        with open('myphonebook.csv', 'r') as f:\n",
    "            print(f.readline())\n",
    "    elif menu_choice == 2:\n",
    "        with open('myphonebook.csv', 'a') as f:\n",
    "            print(\"Insert a phone number.\")\n",
    "            name = input(\"Name: \")\n",
    "            phone = input(\"Number: \")\n",
    "            f.write('%s\\t%s' % (name, phone))\n",
    "            f.write('\\n')   # add newline\n",
    "        numbers[name] = phone\n",
    "    elif menu_choice == 3:\n",
    "        main()\n",
    "\n",
    "    elif menu_choice != 4:\n",
    "        print_menu()\n",
    "    "
   ]
  },
  {
   "cell_type": "code",
   "execution_count": null,
   "metadata": {},
   "outputs": [],
   "source": []
  }
 ]
}