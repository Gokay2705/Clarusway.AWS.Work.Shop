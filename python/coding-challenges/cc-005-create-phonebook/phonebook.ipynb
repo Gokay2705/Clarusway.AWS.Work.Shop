{
 "metadata": {
  "language_info": {
   "codemirror_mode": {
    "name": "ipython",
    "version": 3
   },
   "file_extension": ".py",
   "mimetype": "text/x-python",
   "name": "python",
   "nbconvert_exporter": "python",
   "pygments_lexer": "ipython3",
   "version": "3.8.5-final"
  },
  "orig_nbformat": 2,
  "kernelspec": {
   "name": "Python 3.8.5 32-bit",
   "display_name": "Python 3.8.5 32-bit",
   "metadata": {
    "interpreter": {
     "hash": "7a542ca580817fc4dd55327026e074e2fa0cd470fc5dee9350c2d8b13822db8d"
    }
   }
  }
 },
 "nbformat": 4,
 "nbformat_minor": 2,
 "cells": [
  {
   "cell_type": "code",
   "execution_count": 3,
   "metadata": {
    "tags": []
   },
   "outputs": [
    {
     "output_type": "stream",
     "name": "stdout",
     "text": "Welcome to the phonebook application.\n1. Find phone number.\n2. Insert a phone number.\n3. Delete a person from the phonebook.\n4. Terminate!\n\n"
    }
   ],
   "source": [
    "def print_menu():\n",
    "    print(\"Welcome to the phonebook application.\")\n",
    "    print('1. Find phone number.')\n",
    "    print('2. Insert a phone number.')\n",
    "    print('3. Delete a person from the phonebook.')\n",
    "    print('4. Terminate!')\n",
    "    print()\n",
    "\n",
    "numbers = {}\n",
    "menu_choice = 0\n",
    "print_menu()\n",
    "\n",
    "#Menu choises.\n",
    "while menu_choice != 4:\n",
    "    menu_choice = int(input(\"Type in a number (1-4): \"))\n",
    "    if menu_choice == 1:\n",
    "        print(\"Telephone Numbers:\")\n",
    "        for x in numbers.keys():\n",
    "            print(\"Name: \", x, \"\\t Number:\", numbers[x])\n",
    "        print()\n",
    "    elif menu_choice == 2:\n",
    "        print(\"Add Name and Number\")\n",
    "        name = input(\"Name: \")\n",
    "        phone = input(\"Number: \")\n",
    "        numbers[name] = phone\n",
    "    elif menu_choice == 3:\n",
    "        print(\"Remove Name and Number\")\n",
    "        name = input(\"Name: \")\n",
    "        if name in numbers:\n",
    "            del numbers[name]\n",
    "        else:\n",
    "            print(name, \"was not found\")"
   ]
  },
  {
   "cell_type": "code",
   "execution_count": null,
   "metadata": {},
   "outputs": [],
   "source": []
  }
 ]
}