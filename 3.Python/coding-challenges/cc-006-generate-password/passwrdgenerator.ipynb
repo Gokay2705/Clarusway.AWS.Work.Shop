{
 "metadata": {
  "language_info": {
   "codemirror_mode": {
    "name": "ipython",
    "version": 3
   },
   "file_extension": ".py",
   "mimetype": "text/x-python",
   "name": "python",
   "nbconvert_exporter": "python",
   "pygments_lexer": "ipython3",
   "version": "3.8.5-final"
  },
  "orig_nbformat": 2,
  "kernelspec": {
   "name": "Python 3.8.5 32-bit",
   "display_name": "Python 3.8.5 32-bit",
   "metadata": {
    "interpreter": {
     "hash": "7a542ca580817fc4dd55327026e074e2fa0cd470fc5dee9350c2d8b13822db8d"
    }
   }
  }
 },
 "nbformat": 4,
 "nbformat_minor": 2,
 "cells": [
  {
   "cell_type": "code",
   "execution_count": 11,
   "metadata": {
    "tags": []
   },
   "outputs": [
    {
     "output_type": "stream",
     "name": "stdout",
     "text": "mtu5707\n"
    }
   ],
   "source": [
    "import random\n",
    "\n",
    "name=input(\"Please enter your name and sirname without any space :\").lower()\n",
    "password_name = \"\"\n",
    "password_length_name = 3\n",
    "for x in range(password_length_name):\n",
    "    password_name += random.choice(name)\n",
    "\n",
    "numbers = \"0123456789\"\n",
    "password_num= \"\"\n",
    "password_length_num = 4\n",
    "for x in range(password_length_num):\n",
    "    password_num += random.choice(numbers)\n",
    "\n",
    "password = password_name + password_num\n",
    "print(password)"
   ]
  },
  {
   "cell_type": "code",
   "execution_count": 2,
   "metadata": {
    "tags": []
   },
   "outputs": [
    {
     "output_type": "stream",
     "name": "stdout",
     "text": "ejn\n"
    }
   ],
   "source": [
    "import random\n",
    "name=input(\"Please enter your name and sirname without any space :\").lower()\n",
    "password_name = \"\"\n",
    "password_length_name = 3\n",
    "for x in range(password_length_name):\n",
    "    password_name += random.choice(name)\n",
    "\n",
    "print(password_name)"
   ]
  },
  {
   "cell_type": "code",
   "execution_count": 3,
   "metadata": {
    "tags": []
   },
   "outputs": [
    {
     "output_type": "stream",
     "name": "stdout",
     "text": "2766\n"
    }
   ],
   "source": [
    "numbers = \"0123456789\"\n",
    "password_num= \"\"\n",
    "password_length_num = 4\n",
    "for x in range(password_length_num):\n",
    "    password_num += random.choice(numbers)\n",
    "\n",
    "print(password_num)"
   ]
  },
  {
   "cell_type": "code",
   "execution_count": 4,
   "metadata": {
    "tags": []
   },
   "outputs": [
    {
     "output_type": "stream",
     "name": "stdout",
     "text": "ejn2766\n"
    }
   ],
   "source": [
    "password = password_name + password_num\n",
    "print(password)"
   ]
  },
  {
   "cell_type": "code",
   "execution_count": 12,
   "metadata": {},
   "outputs": [],
   "source": [
    "def password():\n",
    "    import random\n",
    "\n",
    "    name=input(\"Please enter your name and sirname without any space :\").lower()\n",
    "    password_name = \"\"\n",
    "    password_length_name = 3\n",
    "    for x in range(password_length_name):\n",
    "        password_name += random.choice(name)\n",
    "\n",
    "    numbers = \"0123456789\"\n",
    "    password_num= \"\"\n",
    "    password_length_num = 4\n",
    "    for x in range(password_length_num):\n",
    "        password_num += random.choice(numbers)\n",
    "\n",
    "    password = password_name + password_num\n",
    "    print(password)"
   ]
  },
  {
   "cell_type": "code",
   "execution_count": 13,
   "metadata": {
    "tags": []
   },
   "outputs": [
    {
     "output_type": "stream",
     "name": "stdout",
     "text": "def3921\n"
    }
   ],
   "source": [
    "password()"
   ]
  },
  {
   "cell_type": "code",
   "execution_count": 11,
   "metadata": {},
   "outputs": [
    {
     "output_type": "stream",
     "name": "stdout",
     "text": [
      "Please enter a string: eew\nPositive\n"
     ]
    }
   ],
   "source": [
    "def isVowel(char):\n",
    "    return char.lower() in 'aeiou'\n",
    "\n",
    "word = input(\"Please enter a string: \")\n",
    "\n",
    "def isConsecutive(word):\n",
    "    # initialize vowel count\n",
    "    vCounter = 0\n",
    "    for letter in word:\n",
    "        if isVowel(letter): # <= check if the letter is a vowel\n",
    "            vCounter += 1\n",
    "            if vCounter >= 2: # <= do the check right here\n",
    "                return 'Positive'\n",
    "        else:\n",
    "            vCounter = 0\n",
    "\n",
    "    return 'Negative' # <= if we did not find three vovels in the loop, then there is none\n",
    "\n",
    "print(\"Please enter a string: \" + word)\n",
    "print(str(isConsecutive(word)))\n"
   ]
  },
  {
   "cell_type": "code",
   "execution_count": 10,
   "metadata": {},
   "outputs": [
    {
     "output_type": "execute_result",
     "data": {
      "text/plain": [
       "'wsaxeertz'"
      ]
     },
     "metadata": {},
     "execution_count": 10
    }
   ],
   "source": []
  },
  {
   "cell_type": "code",
   "execution_count": null,
   "metadata": {},
   "outputs": [],
   "source": []
  }
 ]
}